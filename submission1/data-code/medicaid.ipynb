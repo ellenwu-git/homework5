{
 "cells": [
  {
   "cell_type": "code",
   "execution_count": 3,
   "metadata": {},
   "outputs": [],
   "source": [
    "import pandas as pd\n",
    "from datetime import datetime"
   ]
  },
  {
   "cell_type": "code",
   "execution_count": 2,
   "metadata": {},
   "outputs": [],
   "source": [
    "# Load the data\n",
    "kff_dat = pd.read_csv(\n",
    "    '/Users/ellenwu/homework5-1/data/input/raw_data.csv', \n",
    "    skiprows=2,\n",
    "    nrows=53)\n",
    "\n",
    "# Rename columns for clarity\n",
    "kff_dat.columns = ['State', 'Expansion Status']\n",
    "\n",
    "# Create binary flag for Medicaid expansion\n",
    "kff_dat['expanded'] = kff_dat['Expansion Status'] == 'Adopted'\n",
    "\n",
    "# Save cleaned file\n",
    "kff_dat[['State', 'expanded']].to_csv(\n",
    "    '/Users/ellenwu/homework5-1/data/output/medicaid-kff.csv',\n",
    "    index=False\n",
    ")"
   ]
  },
  {
   "cell_type": "code",
   "execution_count": null,
   "metadata": {},
   "outputs": [],
   "source": []
  }
 ],
 "metadata": {
  "kernelspec": {
   "display_name": "base",
   "language": "python",
   "name": "python3"
  },
  "language_info": {
   "codemirror_mode": {
    "name": "ipython",
    "version": 3
   },
   "file_extension": ".py",
   "mimetype": "text/x-python",
   "name": "python",
   "nbconvert_exporter": "python",
   "pygments_lexer": "ipython3",
   "version": "3.11.4"
  }
 },
 "nbformat": 4,
 "nbformat_minor": 2
}

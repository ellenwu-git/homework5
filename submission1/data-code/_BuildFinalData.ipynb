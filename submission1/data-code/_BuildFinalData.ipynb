{
 "cells": [
  {
   "cell_type": "code",
   "execution_count": 11,
   "metadata": {},
   "outputs": [],
   "source": [
    "import pandas as pd"
   ]
  },
  {
   "cell_type": "code",
   "execution_count": 16,
   "metadata": {},
   "outputs": [],
   "source": [
    "# === Load Cleaned ACS Insurance Data ===\n",
    "acs_path = \"/Users/ellenwu/homework5-1/data/output/acs_insurance_cleaned.csv\"\n",
    "acs_df = pd.read_csv(acs_path, sep=\"\\t\")\n",
    "\n",
    "# Clean column names (optional but good)\n",
    "acs_df.columns = acs_df.columns.str.strip()\n",
    "\n",
    "# === Load Medicaid Expansion Status File ===\n",
    "kff_path = \"/Users/ellenwu/homework5-1/data/output/medicaid-kff.csv\"\n",
    "medicaid_df = pd.read_csv(kff_path)\n",
    "\n",
    "# Ensure column names are clean\n",
    "medicaid_df.columns = medicaid_df.columns.str.strip()\n",
    "\n",
    "# === Merge ACS and Medicaid Expansion ===\n",
    "merged_df = acs_df.merge(medicaid_df, on=\"State\", how=\"left\")\n",
    "\n",
    "# === Create Expansion Flags ===\n",
    "merged_df['expand_ever'] = merged_df['expanded']  # Copy for clarity\n",
    "merged_df['expand_year'] = merged_df['expand_ever'].apply(lambda x: 2014 if x else None)\n",
    "merged_df['expand'] = merged_df.apply(\n",
    "    lambda row: row['year'] >= row['expand_year'] if pd.notnull(row['expand_year']) else False,\n",
    "    axis=1\n",
    ")\n",
    "\n",
    "# === Reorder columns for clarity ===\n",
    "ordered_cols = ['State', 'year', 'adult_pop', 'ins_employer', 'ins_direct',\n",
    "                'ins_medicare', 'ins_medicaid', 'uninsured',\n",
    "                'expand_ever', 'expand_year', 'expand']\n",
    "merged_df = merged_df[ordered_cols]\n",
    "\n",
    "# === Export Clean File ===\n",
    "output_path = \"/Users/ellenwu/homework5-1/data/output/acs_medicaid.csv\"\n",
    "merged_df.to_csv(output_path, index=False)"
   ]
  },
  {
   "cell_type": "code",
   "execution_count": null,
   "metadata": {},
   "outputs": [],
   "source": []
  }
 ],
 "metadata": {
  "kernelspec": {
   "display_name": "base",
   "language": "python",
   "name": "python3"
  },
  "language_info": {
   "codemirror_mode": {
    "name": "ipython",
    "version": 3
   },
   "file_extension": ".py",
   "mimetype": "text/x-python",
   "name": "python",
   "nbconvert_exporter": "python",
   "pygments_lexer": "ipython3",
   "version": "3.11.4"
  }
 },
 "nbformat": 4,
 "nbformat_minor": 2
}
